{
 "cells": [
  {
   "cell_type": "code",
   "execution_count": null,
   "metadata": {},
   "outputs": [],
   "source": [
    "import pandas as pd\n",
    "import re\n",
    "import pickle\n",
    "import numpy as np\n",
    "import json"
   ]
  },
  {
   "cell_type": "code",
   "execution_count": null,
   "metadata": {},
   "outputs": [],
   "source": [
    "df = pd.read_csv('lab1_ex01.csv')"
   ]
  },
  {
   "cell_type": "code",
   "execution_count": null,
   "metadata": {},
   "outputs": [],
   "source": [
    "names2 = pd.Series(df.columns, index=df.columns)\n",
    "missing = (df.isnull().sum() / len(df))\n",
    "types = df.dtypes.replace({'float64':'float', 'int64':'int', 'object':'other'})"
   ]
  },
  {
   "cell_type": "code",
   "execution_count": null,
   "metadata": {},
   "outputs": [],
   "source": [
    "df2 = pd.concat([names2, missing, types], axis=1).rename(columns={0:'name', 1:'missing', 2:'type'}).reset_index(drop=True)"
   ]
  },
  {
   "cell_type": "code",
   "execution_count": null,
   "metadata": {},
   "outputs": [],
   "source": [
    "df2.to_json('ex01_fields.json', default_handler=str, orient='records', indent=4)"
   ]
  },
  {
   "cell_type": "code",
   "execution_count": null,
   "metadata": {},
   "outputs": [],
   "source": [
    "count = df.count()\n",
    "mean = df.mean(numeric_only=True)\n",
    "std = df.std(numeric_only=True)\n",
    "minv = df.min(numeric_only=True)\n",
    "p25 = df.quantile(0.25, numeric_only=True)\n",
    "p50 = df.quantile(0.5, numeric_only=True)\n",
    "p75 = df.quantile(0.75, numeric_only=True)\n",
    "maxv = df.max(numeric_only=True)"
   ]
  },
  {
   "cell_type": "code",
   "execution_count": null,
   "metadata": {},
   "outputs": [],
   "source": [
    "uniqued = {}\n",
    "topd = {}\n",
    "freqd = {}\n",
    "for col in df.columns:\n",
    "    if df[col].dtype != 'int64' and df[col].dtype != 'float64':\n",
    "        topd[col] = df[col].value_counts().idxmax()\n",
    "        freqd[col] = df[col].value_counts().max()\n",
    "        uniqued[col] = df[col].nunique()\n",
    "top = pd.Series(topd)\n",
    "freq = pd.Series(freqd)\n",
    "unique = pd.Series(uniqued)"
   ]
  },
  {
   "cell_type": "code",
   "execution_count": null,
   "metadata": {},
   "outputs": [],
   "source": [
    "names3 = {0.00:'count', 1.00:'mean', 2.00:'std', 3.00:'min', 0.25:'25%', 0.50:'50%', 0.75:'75%', 4.00:'max', 5.00:'unique', 6.00:'top', 7.00:'freq'}\n",
    "df3 = pd.concat([count, mean, std, minv, p25, p50, p75, maxv, unique, top, freq], axis=1).rename(columns=names3)"
   ]
  },
  {
   "cell_type": "code",
   "execution_count": null,
   "metadata": {},
   "outputs": [],
   "source": [
    "df3.agg(lambda x: x.dropna().to_dict(), axis=1).to_json('ex02_stats.json', orient='index', indent=4 )"
   ]
  },
  {
   "cell_type": "code",
   "execution_count": null,
   "metadata": {},
   "outputs": [],
   "source": [
    "for col in df.columns:\n",
    "    new_col = re.sub(r'(?![a-zA-Z0-9_ ]).', '', col)\n",
    "    new_col = new_col.lower().replace(' ', '_')\n",
    "    df.rename(columns={col:new_col}, inplace=True)"
   ]
  },
  {
   "cell_type": "code",
   "execution_count": null,
   "metadata": {},
   "outputs": [],
   "source": [
    "df.to_csv('ex03_columns.csv', index=False)"
   ]
  },
  {
   "cell_type": "code",
   "execution_count": null,
   "metadata": {},
   "outputs": [],
   "source": [
    "df.to_json('ex04_json.json', orient='records', indent=4)"
   ]
  },
  {
   "cell_type": "code",
   "execution_count": null,
   "metadata": {},
   "outputs": [],
   "source": [
    "df.to_excel('ex04_excel.xlsx', index=False)"
   ]
  },
  {
   "cell_type": "code",
   "execution_count": null,
   "metadata": {},
   "outputs": [],
   "source": [
    "with open('ex04_pickle.pkl', 'wb') as pick:\n",
    "    pickle.dump(df, pick)"
   ]
  },
  {
   "cell_type": "code",
   "execution_count": null,
   "metadata": {},
   "outputs": [],
   "source": [
    "df4 = pd.read_pickle('lab1_ex05.pkl')\n",
    "df4 = df4.iloc[:, 1:3]\n",
    "df4 = df4.loc[df4.index.str.startswith('v')]\n",
    "df4.replace(to_replace=[np.nan, None], value='' , inplace=True)\n",
    "df4.to_markdown('ex05_table.md')"
   ]
  }
 ],
 "metadata": {
  "kernelspec": {
   "display_name": "Python 3 (ipykernel)",
   "language": "python",
   "name": "python3"
  },
  "language_info": {
   "codemirror_mode": {
    "name": "ipython",
    "version": 3
   },
   "file_extension": ".py",
   "mimetype": "text/x-python",
   "name": "python",
   "nbconvert_exporter": "python",
   "pygments_lexer": "ipython3",
   "version": "3.10.2"
  }
 },
 "nbformat": 4,
 "nbformat_minor": 4
}
