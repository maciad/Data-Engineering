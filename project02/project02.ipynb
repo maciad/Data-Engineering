{
 "cells": [
  {
   "cell_type": "code",
   "execution_count": null,
   "id": "86b918fe-45e6-4c93-bf41-98ec9f78d85c",
   "metadata": {
    "tags": []
   },
   "outputs": [],
   "source": [
    "import pandas as pd\n",
    "import numpy as np\n",
    "import pickle\n",
    "import re"
   ]
  },
  {
   "cell_type": "markdown",
   "id": "eac4a9de-163a-45d0-99f0-58bedf1760ca",
   "metadata": {},
   "source": [
    "### Ex 1"
   ]
  },
  {
   "cell_type": "code",
   "execution_count": null,
   "id": "d8942982-f191-40be-924c-480de89cd9de",
   "metadata": {
    "tags": []
   },
   "outputs": [],
   "source": [
    "init_df = pd.read_csv('proj2_data.csv', sep='|', decimal=',')"
   ]
  },
  {
   "cell_type": "code",
   "execution_count": null,
   "id": "9456284d-7478-4bda-a968-3917ac3c0b0c",
   "metadata": {
    "tags": []
   },
   "outputs": [],
   "source": [
    "with open('proj2_ex01.pkl', 'wb') as file1:\n",
    "    pickle.dump(init_df, file1)"
   ]
  },
  {
   "cell_type": "markdown",
   "id": "dc350383-85c5-41ad-bdf5-478a5d903aa0",
   "metadata": {},
   "source": [
    "### Ex 2"
   ]
  },
  {
   "cell_type": "code",
   "execution_count": null,
   "id": "68d276e6-d982-44e9-b581-c9efe11d9c2e",
   "metadata": {
    "tags": []
   },
   "outputs": [],
   "source": [
    "grades = {'niedostateczny': 1,'mierny': 2, 'dostateczny': 3,\n",
    "          'dobry': 4, 'bardzo dobry': 5} "
   ]
  },
  {
   "cell_type": "code",
   "execution_count": null,
   "id": "f42fb62e-94f1-4364-8fad-fb2fbc80b6a5",
   "metadata": {
    "tags": []
   },
   "outputs": [],
   "source": [
    "df2 = init_df.copy()\n",
    "df2['task_grade'] = init_df['task_grade'].map(grades)\n",
    "df2['final_grade'] = init_df['final_grade'].map(grades)"
   ]
  },
  {
   "cell_type": "code",
   "execution_count": null,
   "id": "a39b28ab-6cf4-48a9-a171-6f6e5d109235",
   "metadata": {
    "tags": []
   },
   "outputs": [],
   "source": [
    "with open('proj2_ex02.pkl', 'wb') as file2:\n",
    "    pickle.dump(df2, file2)"
   ]
  },
  {
   "cell_type": "markdown",
   "id": "60b6d405-4ef7-4150-9248-8b0ed0a2505e",
   "metadata": {},
   "source": [
    "### Ex 3"
   ]
  },
  {
   "cell_type": "code",
   "execution_count": null,
   "id": "8c060107-4144-4148-81bd-f59d18c3ccc1",
   "metadata": {
    "tags": []
   },
   "outputs": [],
   "source": [
    "df3 = init_df.copy()"
   ]
  },
  {
   "cell_type": "code",
   "execution_count": null,
   "id": "74271af5-cdf1-4733-b18e-da96b4891784",
   "metadata": {
    "tags": []
   },
   "outputs": [],
   "source": [
    "df3['task_grade'] = df3['task_grade'].astype('category')\n",
    "df3['final_grade'] = df3['final_grade'].astype('category')"
   ]
  },
  {
   "cell_type": "code",
   "execution_count": null,
   "id": "5362b039-1f8f-4198-b267-e45e56b4d7cf",
   "metadata": {
    "tags": []
   },
   "outputs": [],
   "source": [
    "df3['task_grade'] = df3['task_grade'].cat.set_categories(\n",
    "    ['niedostateczny', 'mierny', 'dostateczny', 'dobry', 'bardzo dobry'])\n",
    "df3['final_grade'] = df3['final_grade'].cat.set_categories(\n",
    "    ['niedostateczny', 'mierny', 'dostateczny', 'dobry', 'bardzo dobry'])"
   ]
  },
  {
   "cell_type": "code",
   "execution_count": null,
   "id": "5903e8be-456c-469e-a41e-363cd6998435",
   "metadata": {
    "tags": []
   },
   "outputs": [],
   "source": [
    "with open('proj2_ex03.pkl', 'wb') as file3:\n",
    "    pickle.dump(df3, file3)"
   ]
  },
  {
   "cell_type": "markdown",
   "id": "c7bb3463-c679-49ed-a403-41ab5cac1fca",
   "metadata": {},
   "source": [
    "### Ex 4"
   ]
  },
  {
   "cell_type": "code",
   "execution_count": null,
   "id": "07a70a8f",
   "metadata": {
    "tags": []
   },
   "outputs": [],
   "source": [
    "df4 = init_df.copy()\n",
    "df4.drop(df4.select_dtypes(include=['int64', 'float64']), axis=1, inplace=True)"
   ]
  },
  {
   "cell_type": "code",
   "execution_count": null,
   "id": "f4f2fc0a",
   "metadata": {
    "tags": []
   },
   "outputs": [],
   "source": [
    "for col in df4.columns:\n",
    "    if df4[col].dtype == 'object':\n",
    "        df4[col] = df4[col].str.extract(r'([-]?\\d+[,\\.]?\\d*)', expand=False)\n",
    "        df4[col] = df4[col].str.replace(',', '.').astype('float64')\n",
    "df4.dropna(inplace=True, how='all', axis=1)"
   ]
  },
  {
   "cell_type": "code",
   "execution_count": null,
   "id": "21af0f3a-6e93-43d0-a26f-6b734eb248e2",
   "metadata": {
    "tags": []
   },
   "outputs": [],
   "source": [
    "with open('proj2_ex04.pkl', 'wb') as file:\n",
    "    pickle.dump(df4, file)"
   ]
  },
  {
   "cell_type": "markdown",
   "id": "52baafa1",
   "metadata": {},
   "source": [
    "### Ex 5"
   ]
  },
  {
   "cell_type": "code",
   "execution_count": null,
   "id": "0646b474",
   "metadata": {
    "tags": []
   },
   "outputs": [],
   "source": [
    "forbidden = ['niedostateczny', 'mierny', 'dostateczny', 'dobry', 'bardzo dobry']\n",
    "i = 1\n",
    "\n",
    "for col in init_df.columns:\n",
    "    max_uniq = init_df[col].value_counts().max()\n",
    "    if (init_df[col].dtype == 'object' and \n",
    "            init_df[col].str.contains(r'^[a-z]+$', regex=True).all() and\n",
    "            max_uniq < 10 and \n",
    "            not init_df[col].isin(forbidden).any()):\n",
    "        df5 =  pd.get_dummies(init_df[col])\n",
    "        with open(f'proj2_ex05_{i}.pkl', 'wb') as file:\n",
    "            pickle.dump(df5, file)\n",
    "        i += 1"
   ]
  }
 ],
 "metadata": {
  "kernelspec": {
   "display_name": "Python 3 (ipykernel)",
   "language": "python",
   "name": "python3"
  },
  "language_info": {
   "codemirror_mode": {
    "name": "ipython",
    "version": 3
   },
   "file_extension": ".py",
   "mimetype": "text/x-python",
   "name": "python",
   "nbconvert_exporter": "python",
   "pygments_lexer": "ipython3",
   "version": "3.10.2"
  }
 },
 "nbformat": 4,
 "nbformat_minor": 5
}
