{
 "cells": [
  {
   "cell_type": "code",
   "execution_count": 1,
   "id": "3e709b66-c532-4fc6-b200-26d4ab374993",
   "metadata": {
    "tags": []
   },
   "outputs": [],
   "source": [
    "import pandas as pd\n",
    "import numpy as np\n",
    "import pickle\n",
    "import json"
   ]
  },
  {
   "cell_type": "markdown",
   "id": "9324ee12-e30e-4611-8aa5-a68d64bc21b7",
   "metadata": {},
   "source": [
    "### Ex 1"
   ]
  },
  {
   "cell_type": "code",
   "execution_count": 2,
   "id": "6665b2eb-06aa-472f-b465-c9da23c7c8ba",
   "metadata": {
    "tags": []
   },
   "outputs": [],
   "source": [
    "df1 = pd.read_json('proj3_data1.json')\n",
    "df2 = pd.read_json('proj3_data2.json')\n",
    "df3 = pd.read_json('proj3_data3.json')"
   ]
  },
  {
   "cell_type": "code",
   "execution_count": 3,
   "id": "ce0f2700-34a1-4f1a-9fc7-985fa5d55c86",
   "metadata": {
    "tags": []
   },
   "outputs": [],
   "source": [
    "df = pd.concat([df1, df2, df3]).reset_index(drop=True)"
   ]
  },
  {
   "cell_type": "code",
   "execution_count": 4,
   "id": "3caf6694-8d27-44b4-8bfa-9a7109f8990b",
   "metadata": {
    "tags": []
   },
   "outputs": [],
   "source": [
    "df.to_json('ex01_all_data.json')"
   ]
  },
  {
   "cell_type": "markdown",
   "id": "82e322c1-7a11-4107-9597-9d471b0de711",
   "metadata": {},
   "source": [
    "### Ex 2"
   ]
  },
  {
   "cell_type": "code",
   "execution_count": 5,
   "id": "0d6ce227-c59f-48b5-8155-c3f76f7f50f0",
   "metadata": {
    "tags": []
   },
   "outputs": [],
   "source": [
    "df_missing = df.isna().sum()"
   ]
  },
  {
   "cell_type": "code",
   "execution_count": 6,
   "id": "6a7eff47-c763-406d-bea4-4f9dc2e2d101",
   "metadata": {
    "tags": []
   },
   "outputs": [],
   "source": [
    "df_missing = df_missing[df_missing > 0].reset_index()"
   ]
  },
  {
   "cell_type": "code",
   "execution_count": 7,
   "id": "fcfce339-20c1-4bce-acc9-6d9eb06ad633",
   "metadata": {
    "tags": []
   },
   "outputs": [],
   "source": [
    "df_missing.to_csv('ex02_no_nulls.csv', index=False, header=False)"
   ]
  },
  {
   "cell_type": "markdown",
   "id": "92dbd4d6-f4a4-443b-90fc-06e7cc9f1858",
   "metadata": {},
   "source": [
    "### Ex 3"
   ]
  },
  {
   "cell_type": "code",
   "execution_count": 8,
   "id": "1106c431-5adc-4493-9c5b-d361b81ab961",
   "metadata": {
    "tags": []
   },
   "outputs": [],
   "source": [
    "df_params = pd.read_json('proj3_params.json', typ='series')"
   ]
  },
  {
   "cell_type": "code",
   "execution_count": 9,
   "id": "d90287f4",
   "metadata": {},
   "outputs": [],
   "source": [
    "df['description'] = df[df_params['concat_columns']].apply(lambda x: ' '.join(x), axis=1)"
   ]
  },
  {
   "cell_type": "code",
   "execution_count": 10,
   "id": "0fea0244",
   "metadata": {},
   "outputs": [],
   "source": [
    "df.to_json('ex03_descriptions.json')"
   ]
  },
  {
   "cell_type": "markdown",
   "id": "5538eaa6-fc91-4680-b6c5-e9f77a2605bc",
   "metadata": {},
   "source": [
    "### Ex 4"
   ]
  },
  {
   "cell_type": "code",
   "execution_count": 11,
   "id": "363bf64b-aac2-4023-b0f4-fb01e1a9cb2b",
   "metadata": {},
   "outputs": [],
   "source": [
    "df4 = pd.read_json('proj3_more_data.json')"
   ]
  },
  {
   "cell_type": "code",
   "execution_count": 12,
   "id": "75e97a21-7e19-4dcd-af66-70f2c273f417",
   "metadata": {},
   "outputs": [],
   "source": [
    "df5 = df.merge(df4, on=df_params['join_column'], how='left')"
   ]
  },
  {
   "cell_type": "code",
   "execution_count": 13,
   "id": "aa989235-83c6-45d2-8f1c-f9cb966e5000",
   "metadata": {
    "tags": []
   },
   "outputs": [],
   "source": [
    "df5.to_json('ex04_joined.json')"
   ]
  },
  {
   "cell_type": "markdown",
   "id": "cba4d58f-f371-45cd-b656-2284497506e7",
   "metadata": {},
   "source": [
    "### Ex 5"
   ]
  },
  {
   "cell_type": "code",
   "execution_count": 14,
   "id": "237f8680-e1dd-4dec-acd6-0a8ac4d223ce",
   "metadata": {
    "tags": []
   },
   "outputs": [],
   "source": [
    "for i, row in df5.iterrows():\n",
    "    desc = row['description'].replace(' ','_').lower()\n",
    "    row.drop('description').to_json(f'ex05_{desc}.json')"
   ]
  },
  {
   "cell_type": "code",
   "execution_count": 15,
   "id": "43eb88e7-26e3-43d9-858f-77367fb43e54",
   "metadata": {
    "tags": []
   },
   "outputs": [],
   "source": [
    "for i, row in df5.astype({col: 'Int64' for col in df_params['int_columns']}).iterrows():\n",
    "    desc = row['description'].replace(' ','_').lower()\n",
    "    row.drop('description').to_json(f'ex05_int_{desc}.json')"
   ]
  },
  {
   "cell_type": "markdown",
   "id": "bc4a108f-126a-4db7-8d8e-e19fe09361df",
   "metadata": {},
   "source": [
    "### Ex 6"
   ]
  },
  {
   "cell_type": "code",
   "execution_count": 16,
   "id": "c9d185bc-6b95-4bf2-97c7-e37b331c98a9",
   "metadata": {
    "tags": []
   },
   "outputs": [],
   "source": [
    "d = {}\n",
    "for agg in df_params['aggregations']:\n",
    "    d[f'{agg[1]}_{agg[0]}'] = df5.agg({agg[0]: agg[1]})[0]\n",
    "with open('ex06_aggregations.json', 'w') as f:\n",
    "    json.dump(d,f, indent=4)"
   ]
  },
  {
   "cell_type": "markdown",
   "id": "3ad93da2-d753-4f3d-9567-3dddeeaf4707",
   "metadata": {},
   "source": [
    "### Ex 7"
   ]
  },
  {
   "cell_type": "code",
   "execution_count": 17,
   "id": "4f8b5e2c-0e23-466c-976a-4182bb4a2a44",
   "metadata": {
    "tags": []
   },
   "outputs": [],
   "source": [
    "df6 = df5.groupby(df_params['grouping_column']).filter(lambda x: len(x) > 1)\n",
    "df6 = df6.groupby(df_params['grouping_column']).mean(numeric_only=True)"
   ]
  },
  {
   "cell_type": "code",
   "execution_count": 18,
   "id": "1fc7b422-0964-4672-a347-118ef7462243",
   "metadata": {
    "tags": []
   },
   "outputs": [],
   "source": [
    "df6.to_csv('ex07_groups.csv')"
   ]
  },
  {
   "cell_type": "markdown",
   "id": "24d72158-f546-401b-84b5-0f3a58612b08",
   "metadata": {},
   "source": [
    "### Ex 8"
   ]
  },
  {
   "cell_type": "code",
   "execution_count": 19,
   "id": "fa67cc32-6c72-4515-9547-220202ecc807",
   "metadata": {
    "tags": []
   },
   "outputs": [],
   "source": [
    "df7 = df5.pivot_table(index=df_params['pivot_index'], columns=df_params['pivot_columns'],\n",
    "          values=df_params['pivot_values'],aggfunc=max)"
   ]
  },
  {
   "cell_type": "code",
   "execution_count": 20,
   "id": "10d0be23-2b33-43da-979b-2c700922687c",
   "metadata": {
    "tags": []
   },
   "outputs": [],
   "source": [
    "with open('ex08_pivot.pkl', 'wb') as f:\n",
    "    pickle.dump(df7, f)"
   ]
  },
  {
   "cell_type": "code",
   "execution_count": 21,
   "id": "56890487-5845-4225-976f-054ccfbafe85",
   "metadata": {
    "tags": []
   },
   "outputs": [],
   "source": [
    "df8 = df5.melt(id_vars=df_params['id_vars'])"
   ]
  },
  {
   "cell_type": "code",
   "execution_count": 22,
   "id": "15f8ad5a-186c-4807-a5dd-dd342b1d3758",
   "metadata": {
    "tags": []
   },
   "outputs": [],
   "source": [
    "df8.to_csv('ex08_melt.csv', index=False)"
   ]
  },
  {
   "cell_type": "code",
   "execution_count": 23,
   "id": "0429f1b5-dd9d-40fd-962a-3d7b1d4b376e",
   "metadata": {
    "tags": []
   },
   "outputs": [],
   "source": [
    "df9 = pd.read_csv('proj3_statistics.csv')"
   ]
  },
  {
   "cell_type": "code",
   "execution_count": 24,
   "id": "6132076e-8e07-4005-af97-17f840accf3b",
   "metadata": {
    "tags": []
   },
   "outputs": [],
   "source": [
    "df10 = pd.wide_to_long(df9, stubnames=df5[df_params['pivot_index']].unique(),\n",
    "                       i='Country', j='year', sep='_').dropna(axis=1)"
   ]
  },
  {
   "cell_type": "code",
   "execution_count": 25,
   "id": "185a3f8c-3d6f-4b75-9af6-9f5e56206155",
   "metadata": {
    "tags": []
   },
   "outputs": [],
   "source": [
    "with open('ex08_stats.pkl', 'wb') as f:\n",
    "    pickle.dump(df10, f)"
   ]
  }
 ],
 "metadata": {
  "kernelspec": {
   "display_name": "Python 3 (ipykernel)",
   "language": "python",
   "name": "python3"
  },
  "language_info": {
   "codemirror_mode": {
    "name": "ipython",
    "version": 3
   },
   "file_extension": ".py",
   "mimetype": "text/x-python",
   "name": "python",
   "nbconvert_exporter": "python",
   "pygments_lexer": "ipython3",
   "version": "3.9.16"
  }
 },
 "nbformat": 4,
 "nbformat_minor": 5
}
