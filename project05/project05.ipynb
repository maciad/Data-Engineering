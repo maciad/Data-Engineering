{
 "cells": [
  {
   "cell_type": "code",
   "execution_count": null,
   "id": "f2377e8e-3911-4637-9ae6-09c422dc63ec",
   "metadata": {},
   "outputs": [],
   "source": [
    "import re\n",
    "import pickle\n",
    "import pandas as pd\n",
    "import seaborn as sns\n",
    "import matplotlib.pyplot as plt"
   ]
  },
  {
   "cell_type": "markdown",
   "id": "222c2d9e-3019-40ce-87a6-e18bd05990a9",
   "metadata": {},
   "source": [
    "### 2.1 Preparing data"
   ]
  },
  {
   "cell_type": "code",
   "execution_count": null,
   "id": "26a86aa1-6e94-4af7-8a52-0c4860d3f0ab",
   "metadata": {},
   "outputs": [],
   "source": [
    "params = pd.read_json('proj5_params.json', typ='series')"
   ]
  },
  {
   "cell_type": "code",
   "execution_count": null,
   "id": "091c3fa7-dabc-4ce0-a648-02531a388b3f",
   "metadata": {},
   "outputs": [],
   "source": [
    "df = pd.read_csv('proj5_timeseries.csv', index_col=0, parse_dates=True)"
   ]
  },
  {
   "cell_type": "code",
   "execution_count": null,
   "id": "844c4288-6e94-47f7-9796-45272659e8aa",
   "metadata": {},
   "outputs": [],
   "source": [
    "new_cols = {}\n",
    "for col in df.columns:\n",
    "    new_col = re.sub(r'\\W', '_', col.lower())\n",
    "    new_cols[col] = new_col\n",
    "    \n",
    "df = df.rename(columns=new_cols)"
   ]
  },
  {
   "cell_type": "code",
   "execution_count": null,
   "id": "9ca7d06e-db4c-4e84-9b09-0b5018cd2073",
   "metadata": {},
   "outputs": [],
   "source": [
    "df = df.asfreq(params.get('original_frequency'))"
   ]
  },
  {
   "cell_type": "code",
   "execution_count": null,
   "id": "7f2cbcd3-e3a8-4b69-b502-30212a8a7867",
   "metadata": {},
   "outputs": [],
   "source": [
    "with open('proj5_ex01.pkl', 'wb') as f:\n",
    "    pickle.dump(df, f)"
   ]
  },
  {
   "cell_type": "markdown",
   "id": "e9cce8c2-4ae9-4713-8fd8-850b30a11fbd",
   "metadata": {},
   "source": [
    "### 2.2 Frequency adjustment"
   ]
  },
  {
   "cell_type": "code",
   "execution_count": null,
   "id": "efbf16d4-52d9-4a2a-bbcf-623504f99556",
   "metadata": {},
   "outputs": [],
   "source": [
    "dff = df.asfreq(params.get('target_frequency'))"
   ]
  },
  {
   "cell_type": "code",
   "execution_count": null,
   "id": "1f9381f2-1ac6-4439-94cf-d8cd35438080",
   "metadata": {},
   "outputs": [],
   "source": [
    "with open('proj5_ex02.pkl', 'wb') as f:\n",
    "    pickle.dump(dff, f)"
   ]
  },
  {
   "cell_type": "markdown",
   "id": "a6518145-b6a1-4bde-8805-f3e7e90c866e",
   "metadata": {},
   "source": [
    "### 2.3 Downsampling"
   ]
  },
  {
   "cell_type": "code",
   "execution_count": null,
   "id": "ced250eb-0929-4995-a044-11fb8e1d6e20",
   "metadata": {},
   "outputs": [],
   "source": [
    "period_d = str(params.get('downsample_periods')) + params.get('downsample_units')\n",
    "dfd = df.resample(period_d).sum(min_count=params.get('downsample_periods'))"
   ]
  },
  {
   "cell_type": "code",
   "execution_count": null,
   "id": "fde221e0-c231-4c13-b38e-900b1f451013",
   "metadata": {},
   "outputs": [],
   "source": [
    "with open('proj5_ex03.pkl', 'wb') as f:\n",
    "    pickle.dump(dfd, f)"
   ]
  },
  {
   "cell_type": "markdown",
   "id": "6dca0f3a-05e2-408a-b323-e66c0a81f9aa",
   "metadata": {},
   "source": [
    "### 2.4 Upsampling"
   ]
  },
  {
   "cell_type": "code",
   "execution_count": null,
   "id": "4ad2ccca-c4cf-479f-84e4-1301847c524d",
   "metadata": {},
   "outputs": [],
   "source": [
    "period_u = str(params.get('upsample_periods')) + params.get('upsample_units')"
   ]
  },
  {
   "cell_type": "code",
   "execution_count": null,
   "id": "fcb2e32e-7995-4e51-90e6-f59edff2eac3",
   "metadata": {},
   "outputs": [],
   "source": [
    "dfu = df.resample(period_u).interpolate(params.get('interpolation'), order=params.get('interpolation_order'))"
   ]
  },
  {
   "cell_type": "code",
   "execution_count": null,
   "id": "a85d8eb8-742b-44e4-a2b0-b485f0fc69fb",
   "metadata": {},
   "outputs": [],
   "source": [
    "original_frequency = pd.Timedelta(1, params.get('original_frequency'))\n",
    "upsampled_frequency = pd.Timedelta(period_u)\n",
    "dfu = dfu * upsampled_frequency / original_frequency"
   ]
  },
  {
   "cell_type": "code",
   "execution_count": null,
   "id": "34ab82fa-0fe8-45d2-b813-59fb4b2f1943",
   "metadata": {},
   "outputs": [],
   "source": [
    "with open('proj5_ex04.pkl', 'wb') as f:\n",
    "    pickle.dump(dfu, f)"
   ]
  },
  {
   "cell_type": "markdown",
   "id": "470f253a-6388-4e50-851c-8447294c3744",
   "metadata": {},
   "source": [
    "### 2.5 Reshaping & alignment"
   ]
  },
  {
   "cell_type": "code",
   "execution_count": null,
   "id": "fd0e6857-3099-4096-a9f2-0670ed5c14fd",
   "metadata": {},
   "outputs": [],
   "source": [
    "# df2 = pd.read_csv('proj5_sensors.csv')\n",
    "with open('proj5_sensors.pkl', 'rb') as file:\n",
    "    df2 = pickle.load(file)"
   ]
  },
  {
   "cell_type": "code",
   "execution_count": null,
   "id": "43e99dfb-a5a7-4b0b-9c6d-6bd7cb8188c5",
   "metadata": {},
   "outputs": [],
   "source": [
    "df2 = df2.pivot(columns='device_id', values='value')"
   ]
  },
  {
   "cell_type": "code",
   "execution_count": null,
   "id": "10905ba7-a256-4ba1-a8fc-3f6c47621417",
   "metadata": {},
   "outputs": [],
   "source": [
    "freq = str(params.get('sensors_periods')) + params.get('sensors_units')\n",
    "new_index = pd.date_range(\n",
    "    start=df2.index.round(freq).min(),\n",
    "    end=df2.index.round(freq).max(),\n",
    "    freq=freq\n",
    ")"
   ]
  },
  {
   "cell_type": "code",
   "execution_count": null,
   "id": "62bb003e-e633-480a-a4e5-2147ba66a841",
   "metadata": {},
   "outputs": [],
   "source": [
    "df2 = df2.reindex(new_index.union(df2.index)).interpolate()\n",
    "df2 = df2.reindex(new_index)"
   ]
  },
  {
   "cell_type": "code",
   "execution_count": null,
   "id": "cb928290-c4f9-427a-b4f4-f7e57e991653",
   "metadata": {},
   "outputs": [],
   "source": [
    "df2 = df2.dropna()"
   ]
  },
  {
   "cell_type": "code",
   "execution_count": null,
   "id": "7fb344a2-01d7-4318-b21a-4201bf598303",
   "metadata": {},
   "outputs": [],
   "source": [
    "with open('proj5_ex05.pkl', 'wb') as f:\n",
    "    pickle.dump(df2, f)"
   ]
  }
 ],
 "metadata": {
  "kernelspec": {
   "display_name": "Python 3 (ipykernel)",
   "language": "python",
   "name": "python3"
  },
  "language_info": {
   "codemirror_mode": {
    "name": "ipython",
    "version": 3
   },
   "file_extension": ".py",
   "mimetype": "text/x-python",
   "name": "python",
   "nbconvert_exporter": "python",
   "pygments_lexer": "ipython3",
   "version": "3.9.16"
  }
 },
 "nbformat": 4,
 "nbformat_minor": 5
}
