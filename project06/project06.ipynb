{
 "cells": [
  {
   "cell_type": "code",
   "execution_count": 1,
   "id": "d4fc3c22-cc3d-4bb2-b95a-fb3c8c1b73ac",
   "metadata": {},
   "outputs": [],
   "source": [
    "import pickle\n",
    "import sqlite3\n",
    "import pandas as pd"
   ]
  },
  {
   "cell_type": "code",
   "execution_count": 2,
   "id": "c1367d27-fe4b-41fc-8417-04f7d509b9db",
   "metadata": {},
   "outputs": [],
   "source": [
    "con = sqlite3.connect(\"proj6_readings.sqlite\")\n",
    "cur = con.cursor()"
   ]
  },
  {
   "cell_type": "markdown",
   "id": "fc3fe0ca-132e-459f-aa94-9cf1d12b63c8",
   "metadata": {},
   "source": [
    "### 2.1 Basic counting"
   ]
  },
  {
   "cell_type": "code",
   "execution_count": null,
   "id": "490a3a8d-48e0-4a26-9cdb-58ba6d792ab5",
   "metadata": {},
   "outputs": [],
   "source": [
    "query = '''SELECT COUNT(DISTINCT detector_id) FROM readings'''"
   ]
  },
  {
   "cell_type": "code",
   "execution_count": null,
   "id": "d2dc35f1-b605-4805-9477-10f5fc038a9d",
   "metadata": {},
   "outputs": [],
   "source": [
    "df = pd.read_sql(query, con)\n",
    "df"
   ]
  },
  {
   "cell_type": "code",
   "execution_count": null,
   "id": "1c6c353b-cea0-4019-8e79-035f206d6941",
   "metadata": {},
   "outputs": [],
   "source": [
    "df.to_pickle('proj6_ex01_detector_no.pkl')"
   ]
  },
  {
   "cell_type": "markdown",
   "id": "257b9737-ce97-442c-b24e-51bfcdeec252",
   "metadata": {},
   "source": [
    "### 2.2 Some stats"
   ]
  },
  {
   "cell_type": "code",
   "execution_count": null,
   "id": "f2b36a1e-9651-4855-98e0-9f52ff1ed924",
   "metadata": {},
   "outputs": [],
   "source": [
    "query_2 = '''SELECT detector_id, count(count), min(starttime), max(starttime)\n",
    "             FROM readings\n",
    "             GROUP BY detector_id'''"
   ]
  },
  {
   "cell_type": "code",
   "execution_count": null,
   "id": "52a0b7dc-2be0-47a4-ac05-eb7d15f95a1f",
   "metadata": {},
   "outputs": [],
   "source": [
    "df2 = pd.read_sql(query_2, con)"
   ]
  },
  {
   "cell_type": "code",
   "execution_count": null,
   "id": "20a72948-a63c-41ee-a608-a1533a665068",
   "metadata": {},
   "outputs": [],
   "source": [
    "df2"
   ]
  },
  {
   "cell_type": "code",
   "execution_count": null,
   "id": "6d998b9f-5e71-4144-8cb9-8bdc35ccedff",
   "metadata": {},
   "outputs": [],
   "source": [
    "df2.to_pickle('proj6_ex02_detector_stat.pkl')"
   ]
  },
  {
   "cell_type": "markdown",
   "id": "344f2bc7-8c7e-4c28-9956-e1913530e9df",
   "metadata": {},
   "source": [
    "### 2.3 Moving Window"
   ]
  },
  {
   "cell_type": "code",
   "execution_count": null,
   "id": "511b980b-83ba-44e4-bdfd-a54bd64022f0",
   "metadata": {},
   "outputs": [],
   "source": [
    "query_3 = '''SELECT \n",
    "                detector_id,\n",
    "                count,\n",
    "                lag(count) OVER (PARTITION BY detector_id ORDER BY starttime) as prev_count\n",
    "            FROM readings\n",
    "            WHERE detector_id = 146\n",
    "            LIMIT 500'''"
   ]
  },
  {
   "cell_type": "code",
   "execution_count": null,
   "id": "187c24d4-e83c-45b9-ab4e-35b5ce4b3181",
   "metadata": {},
   "outputs": [],
   "source": [
    "df3 = pd.read_sql(query_3, con)"
   ]
  },
  {
   "cell_type": "code",
   "execution_count": null,
   "id": "1b754138-f7b7-48bf-b0f2-0f22672ce4de",
   "metadata": {},
   "outputs": [],
   "source": [
    "df3"
   ]
  },
  {
   "cell_type": "code",
   "execution_count": null,
   "id": "23723a8a-aedd-410f-94f1-320734b278f5",
   "metadata": {},
   "outputs": [],
   "source": [
    "df3.to_pickle('proj6_ex03_detector_146_lag.pkl')"
   ]
  },
  {
   "cell_type": "markdown",
   "id": "f478e40f-0ea4-43b6-8dac-2a8479c5bebc",
   "metadata": {},
   "source": [
    "### 2.4 Window"
   ]
  },
  {
   "cell_type": "code",
   "execution_count": null,
   "id": "11a8f979-4e02-431b-b875-1e88bb43b814",
   "metadata": {},
   "outputs": [],
   "source": [
    "query_4 = '''SELECT detector_id,\n",
    "               count,\n",
    "               SUM(count) OVER (PARTITION BY detector_id ORDER BY starttime ROWS BETWEEN CURRENT ROW AND 10 FOLLOWING) AS window_sum\n",
    "            FROM readings\n",
    "            WHERE detector_id = 146\n",
    "            LIMIT 500'''"
   ]
  },
  {
   "cell_type": "code",
   "execution_count": null,
   "id": "187cc7f2-54fc-4e91-a1a5-82b2d0d2781a",
   "metadata": {},
   "outputs": [],
   "source": [
    "df4 = pd.read_sql(query_4, con)"
   ]
  },
  {
   "cell_type": "code",
   "execution_count": null,
   "id": "da24e787-5137-4bc9-9a96-551544ece337",
   "metadata": {},
   "outputs": [
    {
     "data": {
      "text/html": [
       "<div>\n",
       "<style scoped>\n",
       "    .dataframe tbody tr th:only-of-type {\n",
       "        vertical-align: middle;\n",
       "    }\n",
       "\n",
       "    .dataframe tbody tr th {\n",
       "        vertical-align: top;\n",
       "    }\n",
       "\n",
       "    .dataframe thead th {\n",
       "        text-align: right;\n",
       "    }\n",
       "</style>\n",
       "<table border=\"1\" class=\"dataframe\">\n",
       "  <thead>\n",
       "    <tr style=\"text-align: right;\">\n",
       "      <th></th>\n",
       "      <th>detector_id</th>\n",
       "      <th>count</th>\n",
       "      <th>window_sum</th>\n",
       "    </tr>\n",
       "  </thead>\n",
       "  <tbody>\n",
       "    <tr>\n",
       "      <th>0</th>\n",
       "      <td>146</td>\n",
       "      <td>1</td>\n",
       "      <td>2</td>\n",
       "    </tr>\n",
       "    <tr>\n",
       "      <th>1</th>\n",
       "      <td>146</td>\n",
       "      <td>0</td>\n",
       "      <td>2</td>\n",
       "    </tr>\n",
       "    <tr>\n",
       "      <th>2</th>\n",
       "      <td>146</td>\n",
       "      <td>0</td>\n",
       "      <td>2</td>\n",
       "    </tr>\n",
       "    <tr>\n",
       "      <th>3</th>\n",
       "      <td>146</td>\n",
       "      <td>0</td>\n",
       "      <td>2</td>\n",
       "    </tr>\n",
       "    <tr>\n",
       "      <th>4</th>\n",
       "      <td>146</td>\n",
       "      <td>0</td>\n",
       "      <td>2</td>\n",
       "    </tr>\n",
       "    <tr>\n",
       "      <th>...</th>\n",
       "      <td>...</td>\n",
       "      <td>...</td>\n",
       "      <td>...</td>\n",
       "    </tr>\n",
       "    <tr>\n",
       "      <th>495</th>\n",
       "      <td>146</td>\n",
       "      <td>0</td>\n",
       "      <td>20</td>\n",
       "    </tr>\n",
       "    <tr>\n",
       "      <th>496</th>\n",
       "      <td>146</td>\n",
       "      <td>2</td>\n",
       "      <td>22</td>\n",
       "    </tr>\n",
       "    <tr>\n",
       "      <th>497</th>\n",
       "      <td>146</td>\n",
       "      <td>2</td>\n",
       "      <td>21</td>\n",
       "    </tr>\n",
       "    <tr>\n",
       "      <th>498</th>\n",
       "      <td>146</td>\n",
       "      <td>2</td>\n",
       "      <td>21</td>\n",
       "    </tr>\n",
       "    <tr>\n",
       "      <th>499</th>\n",
       "      <td>146</td>\n",
       "      <td>2</td>\n",
       "      <td>21</td>\n",
       "    </tr>\n",
       "  </tbody>\n",
       "</table>\n",
       "<p>500 rows × 3 columns</p>\n",
       "</div>"
      ],
      "text/plain": [
       "     detector_id  count  window_sum\n",
       "0            146      1           2\n",
       "1            146      0           2\n",
       "2            146      0           2\n",
       "3            146      0           2\n",
       "4            146      0           2\n",
       "..           ...    ...         ...\n",
       "495          146      0          20\n",
       "496          146      2          22\n",
       "497          146      2          21\n",
       "498          146      2          21\n",
       "499          146      2          21\n",
       "\n",
       "[500 rows x 3 columns]"
      ]
     },
     "execution_count": 7,
     "metadata": {},
     "output_type": "execute_result"
    }
   ],
   "source": [
    "df4.head(500"
   ]
  },
  {
   "cell_type": "code",
   "execution_count": null,
   "id": "6e9e8e07-b554-49dc-8d15-bb33e0a261b4",
   "metadata": {},
   "outputs": [],
   "source": [
    "df4.to_pickle('proj6_ex04_detector_146_sum.pkl')"
   ]
  },
  {
   "cell_type": "code",
   "execution_count": null,
   "id": "20ef8463-7dbf-4354-886d-220cbbb0cbca",
   "metadata": {},
   "outputs": [],
   "source": [
    "con.close()"
   ]
  }
 ],
 "metadata": {
  "kernelspec": {
   "display_name": "Python 3 (ipykernel)",
   "language": "python",
   "name": "python3"
  },
  "language_info": {
   "codemirror_mode": {
    "name": "ipython",
    "version": 3
   },
   "file_extension": ".py",
   "mimetype": "text/x-python",
   "name": "python",
   "nbconvert_exporter": "python",
   "pygments_lexer": "ipython3",
   "version": "3.9.16"
  }
 },
 "nbformat": 4,
 "nbformat_minor": 5
}
